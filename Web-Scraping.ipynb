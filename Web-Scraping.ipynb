{
 "cells": [
  {
   "cell_type": "markdown",
   "metadata": {},
   "source": [
    "# IMPORTS"
   ]
  },
  {
   "cell_type": "code",
   "execution_count": 2,
   "metadata": {
    "tags": []
   },
   "outputs": [],
   "source": [
    "import builtwith\n",
    "import whois"
   ]
  },
  {
   "cell_type": "markdown",
   "metadata": {},
   "source": [
    "## Helper Functions"
   ]
  },
  {
   "cell_type": "code",
   "execution_count": 19,
   "metadata": {},
   "outputs": [
    {
     "output_type": "execute_result",
     "data": {
      "text/plain": "{'javascript-graphics': ['Javascript Infovis Toolkit'],\n 'javascript-frameworks': ['RequireJS']}"
     },
     "metadata": {},
     "execution_count": 19
    }
   ],
   "source": [
    "builtwith.parse('https://www.facebook.com', headers=None, html=None, user_agent='builtwith')"
   ]
  },
  {
   "cell_type": "code",
   "execution_count": 5,
   "metadata": {
    "tags": []
   },
   "outputs": [
    {
     "output_type": "stream",
     "name": "stdout",
     "text": "{\n  \"domain_name\": \"aprendapowerbi.com.br\",\n  \"registrant_name\": \"Leonardo Karpinski\",\n  \"registrant_id\": \"057.414.729-23\",\n  \"country\": \"BR\",\n  \"owner_c\": \"LEKAR9\",\n  \"admin_c\": \"LEKAR21\",\n  \"tech_c\": \"LEKAR21\",\n  \"billing_c\": \"LEKAR21\",\n  \"name_server\": [\n    \"aiden.ns.cloudflare.com\",\n    \"betty.ns.cloudflare.com\"\n  ],\n  \"nsstat\": \"20200715 AA\",\n  \"nslastaa\": \"20200715\",\n  \"saci\": \"yes\",\n  \"creation_date\": [\n    \"2018-04-28 00:00:00\",\n    \"2013-06-07 00:00:00\"\n  ],\n  \"updated_date\": [\n    \"2020-05-12 00:00:00\",\n    \"2018-04-28 00:00:00\"\n  ],\n  \"expiration_date\": \"2021-04-28 00:00:00\",\n  \"status\": \"published\",\n  \"nic_hdl_br\": [\n    \"LEKAR9\",\n    \"LEKAR21\"\n  ],\n  \"person\": \"Leonardo Karpinski\",\n  \"email\": [\n    \"karpaa@gmail.com\",\n    \"karpinski.leonardo@gmail.com\"\n  ]\n}\n"
    }
   ],
   "source": [
    "print(whois.whois('aprendapowerbi.com.br'))"
   ]
  },
  {
   "cell_type": "code",
   "execution_count": null,
   "metadata": {},
   "outputs": [],
   "source": []
  }
 ],
 "metadata": {
  "kernelspec": {
   "display_name": "Python 3",
   "language": "python",
   "name": "python3"
  },
  "language_info": {
   "codemirror_mode": {
    "name": "ipython",
    "version": 3
   },
   "file_extension": ".py",
   "mimetype": "text/x-python",
   "name": "python",
   "nbconvert_exporter": "python",
   "pygments_lexer": "ipython3",
   "version": "3.8.2"
  },
  "toc": {
   "base_numbering": 1,
   "nav_menu": {},
   "number_sections": true,
   "sideBar": true,
   "skip_h1_title": false,
   "title_cell": "Table of Contents",
   "title_sidebar": "Contents",
   "toc_cell": false,
   "toc_position": {},
   "toc_section_display": true,
   "toc_window_display": false
  }
 },
 "nbformat": 4,
 "nbformat_minor": 4
}